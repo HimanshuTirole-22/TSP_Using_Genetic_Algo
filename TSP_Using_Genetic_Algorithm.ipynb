{
  "nbformat": 4,
  "nbformat_minor": 0,
  "metadata": {
    "colab": {
      "provenance": [],
      "collapsed_sections": [],
      "authorship_tag": "ABX9TyMk+0TTBC1n/lmEPTL4UFom",
      "include_colab_link": true
    },
    "kernelspec": {
      "name": "python3",
      "display_name": "Python 3"
    },
    "language_info": {
      "name": "python"
    }
  },
  "cells": [
    {
      "cell_type": "markdown",
      "metadata": {
        "id": "view-in-github",
        "colab_type": "text"
      },
      "source": [
        "<a href=\"https://colab.research.google.com/github/HimanshuTirole-22/TSP_Using_Genetic_Algo/blob/main/TSP_Using_Genetic_Algorithm.ipynb\" target=\"_parent\"><img src=\"https://colab.research.google.com/assets/colab-badge.svg\" alt=\"Open In Colab\"/></a>"
      ]
    },
    {
      "cell_type": "code",
      "execution_count": 226,
      "metadata": {
        "id": "UqPy6dI-0nUh"
      },
      "outputs": [],
      "source": [
        "import random\n",
        "import copy\n",
        "import math\n",
        "import matplotlib.pyplot as plt"
      ]
    },
    {
      "cell_type": "code",
      "source": [
        "#Initialization\n",
        "POPULATION_SIZE = 20\n",
        "CITIES_SIZE= 20\n",
        "TOUR_SIZE = 21\n",
        "NUM_EXECUTION = 9999\n",
        "population = []\n",
        "x= []\n",
        "y= []"
      ],
      "metadata": {
        "id": "AJytVpJI1d2_"
      },
      "execution_count": 227,
      "outputs": []
    },
    {
      "cell_type": "code",
      "source": [
        "tour = [[0 for x in range(TOUR_SIZE)] for y in range(TOUR_SIZE)]\n",
        "dCidade = [[0 for x in range(POPULATION_SIZE)] for y in range(POPULATION_SIZE)]\n",
        "distances = [0 for x in range(POPULATION_SIZE)]\n",
        "parentsOne = None\n",
        "parentsTwo = None\n",
        "costByExecution = []"
      ],
      "metadata": {
        "id": "auttmQJy1k-C"
      },
      "execution_count": 228,
      "outputs": []
    },
    {
      "cell_type": "code",
      "source": [
        "\"\"\"Generate a new possible path for a population\"\"\"\n",
        "def generatePossiblePath():\n",
        "  path = []\n",
        "  for _ in range(1, CITIES_SIZE + 1):\n",
        "    #generates a new number between 1 - 20\n",
        "    randomNum = random.randint(1, 20)\n",
        "    #while the generated number exists in the List, generates a new one\n",
        "    while(numberExistsInPath(path, randomNum)):\n",
        "      randomNum = random.randint(1, 20)\n",
        "    path.append(randomNum)\n",
        "  population.append(path)"
      ],
      "metadata": {
        "id": "BOcpsVqQ3YKb"
      },
      "execution_count": 229,
      "outputs": []
    },
    {
      "cell_type": "code",
      "source": [
        "\"\"\"\n",
        "Method to verify if the number is already in the path\n",
        "\"\"\"\n",
        "def numberExistsInPath(path, number):\n",
        "  for i in path:\n",
        "    if i == number:\n",
        "      return True\n",
        "  return False"
      ],
      "metadata": {
        "id": "3VT9JYSQ3u8G"
      },
      "execution_count": 230,
      "outputs": []
    },
    {
      "cell_type": "code",
      "source": [
        "\"\"\"\n",
        "Generates the X and Y arrays which represents the distances\n",
        "in the x and y axis used to calculate the identity matrix in the fitness function\n",
        "\"\"\"\n",
        "def generateXandY():\n",
        "  for _ in range(CITIES_SIZE):\n",
        "    randomNumber = random.random()\n",
        "    randomNumber = round(randomNumber,2)\n",
        "    x.append(randomNumber)\n",
        "\n",
        "    randomNumber = random.random()\n",
        "    randomNumber = round(randomNumber, 2)\n",
        "    y.append(randomNumber)"
      ],
      "metadata": {
        "id": "kkJRuRmE4Het"
      },
      "execution_count": 231,
      "outputs": []
    },
    {
      "cell_type": "code",
      "source": [
        "\"\"\"\n",
        "Generates the Tour matrix, which is the same matrix as the population,\n",
        "but with the first column duplicated at the end of it, afterall, the traveller\n",
        "always have to arrive at the same place of where he started\n",
        "\"\"\"\n",
        "def generateTour():\n",
        "  global tour\n",
        "  tour = copy.deepcopy(population)\n",
        "  for ways in tour:\n",
        "    first= ways[0]\n",
        "    ways.append(first)"
      ],
      "metadata": {
        "id": "DU8NdzbP4dk7"
      },
      "execution_count": 232,
      "outputs": []
    },
    {
      "cell_type": "code",
      "source": [
        "\"\"\"\n",
        "  Generates the an array with the sum of each path in the population array\n",
        "  I oased on tour matrix\n",
        "\"\"\"\n",
        "def calculateDistances():\n",
        "  global distances\n",
        "  distances= [0 for x in range(CITIES_SIZE)]\n",
        "  for i in range(len(population)):\n",
        "    for j in range(len(population[i])):\n",
        "      firstPos = 19 if tour[i][j] == 20 else tour[i][j]\n",
        "      secondPos = 19 if tour[i][j+1] == 20 else tour[i][j+1]\n",
        "      distances[i] += round(dCidade[firstPos][secondPos], 4)\n",
        "  dict_dist = {i: distances[i] for i in range(0, len(distances))}\n",
        "  distances = copy.deepcopy(dict_dist)\n",
        "  return sorted(distances.items(), key=lambda kv: kv[1])"
      ],
      "metadata": {
        "id": "qlUyPH97_hzf"
      },
      "execution_count": 233,
      "outputs": []
    },
    {
      "cell_type": "code",
      "source": [
        "\"\"\"\n",
        "Generate the identity matrix (dcidade) based on the x and y arrays\n",
        "and then call the calculateDistances() method to generate the array with the sum\n",
        "of each path to user later in the cycle process\n",
        "\"\"\"\n",
        "def fitnessFunction():\n",
        "  for i in range(len(population)):\n",
        "    for j in range(len(population)):\n",
        "      dCidade[i][j] = round(math.sqrt(((x[i] - x[j])**2) + ((y[i] - y[j])** 2)),4)\n",
        "  return calculateDistances()"
      ],
      "metadata": {
        "id": "jxPOjzAV_-QH"
      },
      "execution_count": 234,
      "outputs": []
    },
    {
      "cell_type": "code",
      "source": [
        "\"\"\"\n",
        "Performs the roulette function, generating two arrays with 5 parents each,\n",
        "which will be used later to do the cycle process\n",
        "\"\"\"\n",
        "def rouletteFunction(sorted_x):\n",
        "  global parentsOne\n",
        "  global parentsTwo\n",
        "  arr = []\n",
        "  rouletteArr = []\n",
        "  for i in range(10):\n",
        "    arr.append(sorted_x[i][0])\n",
        "  for j in range(len(arr)):\n",
        "    for _ in range(10 - j):\n",
        "      rouletteArr.append(arr[j])\n",
        "  parentsOne = createParents(rouletteArr)\n",
        "  parentsTwo = createParents(rouletteArr)"
      ],
      "metadata": {
        "id": "4IF6JiEQAzzi"
      },
      "execution_count": 235,
      "outputs": []
    },
    {
      "cell_type": "code",
      "source": [
        "\"\"\"\n",
        "  Auxiliary method used in the roulette to generate the two parents array\n",
        "\"\"\"\n",
        "def createParents(rouletteArr):\n",
        "  parentArr = []\n",
        "  for _ in range(5):\n",
        "    parentArr.append(rouletteArr[random.randint(0, 54)])\n",
        "  return parentArr"
      ],
      "metadata": {
        "id": "8UOvzXf3Bagk"
      },
      "execution_count": 236,
      "outputs": []
    },
    {
      "cell_type": "code",
      "source": [
        "\"\"\"\n",
        "Method used in the cycle method to see if there's any duplicated city\n",
        "\"\"\"\n",
        "def hasDuplicity(auxArray, usedIndexes):\n",
        "  for i in range(len(auxArray)):\n",
        "    for j in range(i, len(auxArray)):\n",
        "      if i != j and auxArray[i] == auxArray[j]:\n",
        "        if i in usedIndexes:\n",
        "          return j\n",
        "        else:\n",
        "          return i\n",
        "  return -1\n"
      ],
      "metadata": {
        "id": "eDH_mEgWDNvA"
      },
      "execution_count": 237,
      "outputs": []
    },
    {
      "cell_type": "code",
      "source": [
        "\"\"\"Generate the first population\"\"\"\n",
        "def generateFirstPopulation():\n",
        "  # For each position, generates a new possible path\n",
        "  for _ in range(1, POPULATION_SIZE + 1):\n",
        "    generatePossiblePath()"
      ],
      "metadata": {
        "id": "q-6Vl6R13Hfb"
      },
      "execution_count": 238,
      "outputs": []
    },
    {
      "cell_type": "code",
      "source": [
        "\"\"\"\n",
        "makes the swap between 2 cities in the path with a 5% chance of mutation\n",
        "\"\"\"\n",
        "def mutate(matrix):\n",
        "  for i in range(0, len(matrix)):\n",
        "    for _ in range(0, len(matrix[i])):\n",
        "      ranNum = random.randint(1, 100)\n",
        "      if ranNum >= 1 and ranNum <= 5:\n",
        "        indexOne = random.randint(0, 19)\n",
        "        indexTwo = random.randint(0, 19)\n",
        "        auxOne = matrix[i][indexOne]\n",
        "        auxTwo = matrix[i][indexTwo]\n",
        "        matrix[i][indexOne] = auxTwo\n",
        "        matrix[i][indexTwo] = auxOne"
      ],
      "metadata": {
        "id": "lBqv2ArSCAyX"
      },
      "execution_count": 239,
      "outputs": []
    },
    {
      "cell_type": "code",
      "source": [
        "\n",
        "\"\"\"\n",
        "Method that has the ' cycle' logic.\n",
        "1. For each two children in the children array, makes a random swap between\n",
        "the two children until there's no duplicated element\n",
        "2. Mutate the children that were generated\n",
        "3. Adds the children in the population array I\n",
        "\"\"\"\n",
        "\n",
        "def doCycle(sorted_x):\n",
        "  global population\n",
        "  children = []\n",
        "  \n",
        "  for i in range(5):\n",
        "    parentOneAux = parentsOne[i]\n",
        "    parentTwoAux = parentsTwo[i]\n",
        "    usedIndexes = []\n",
        "    \n",
        "    randomIndexInsideCromossomus = random.randint(0, POPULATION_SIZE - 1)\n",
        "    usedIndexes.append(randomIndexInsideCromossomus)\n",
        "\n",
        "    childOne = copy.deepcopy(population[parentOneAux])\n",
        "    childTwo = copy.deepcopy(population[parentTwoAux])\n",
        "\n",
        "    valAuxOne = childOne[randomIndexInsideCromossomus]\n",
        "    valAuxTwo = childTwo[randomIndexInsideCromossomus]\n",
        "\n",
        "    childOne[randomIndexInsideCromossomus] = valAuxTwo\n",
        "    childTwo[randomIndexInsideCromossomus] = valAuxOne\n",
        "  \n",
        "    while(hasDuplicity(childOne, usedIndexes) != -1):\n",
        "      newIndex = hasDuplicity(childOne, usedIndexes)\n",
        "      usedIndexes.append(newIndex)\n",
        "    \n",
        "      valAuxOne = childOne[newIndex]\n",
        "      valAuxTwo = childTwo[newIndex]\n",
        "\n",
        "      childOne[newIndex] = valAuxTwo\n",
        "      childTwo[newIndex] = valAuxOne\n",
        "\n",
        "#After generating the children, add them in the children's array\n",
        "    children.append(childOne)\n",
        "    children.append(childTwo)\n",
        "\n",
        "#Mutate the children array\n",
        "  mutate(children)\n",
        "\n",
        "#Make a temp copy of the population before changing it\n",
        "  tempPop = copy.deepcopy(population)\n",
        "\n",
        "  for i in range(10):\n",
        "    population[i] = copy.deepcopy(tempPop[sorted_x[i][0]])\n",
        "\n",
        "#Adjust the population\n",
        "  for j in range(10, POPULATION_SIZE):\n",
        "    population[j] = copy.deepcopy(children[j - 10])"
      ],
      "metadata": {
        "id": "pYLXR-y6YjyU"
      },
      "execution_count": 240,
      "outputs": []
    },
    {
      "cell_type": "code",
      "source": [
        "def main():\n",
        "  #Runs only once. Generates the population, x and y, and tour matrix\n",
        "  generateFirstPopulation()\n",
        "  generateXandY()\n",
        "  generateTour()\n",
        "  \n",
        "  #Runs in a Loop @ - 9999.\n",
        "  for _ in range(NUM_EXECUTION):\n",
        "    sorted_x= fitnessFunction()\n",
        "    rouletteFunction(sorted_x)\n",
        "    doCycle(sorted_x)\n",
        "    generateTour()  # Generate the Tour matrix again, as the population is updated\n",
        "    costByExecution.append(sorted_x[0][1]) #Appends the cost to the array of costs (plotted at the\n",
        "\n",
        "  #Generates the fitness values for the last population\n",
        "  sorted_x = fitnessFunction()\n",
        "  print('Total Population: %s' % (POPULATION_SIZE))\n",
        "  print('Mutation Probability: 5%')\n",
        "  print('Number of cities: %s' % (CITIES_SIZE))\n",
        "  print('Optimal path cost: %s' % sorted_x[0][1])\n",
        "  print('Best Route: %s' % population[0])\n",
        "\n",
        "  # Show the path graph\n",
        "  plt.plot(tour[0])\n",
        "  plt.plot(tour[0], 'ro')\n",
        "  plt.axis([0, 20, 0, 20])\n",
        "  plt.show()\n",
        "  \n",
        "  #Show the cost graph\n",
        "  plt.plot(costByExecution)\n",
        "  plt.show()\n",
        "\n",
        "if __name__ == \"__main__\":\n",
        "  main()"
      ],
      "metadata": {
        "colab": {
          "base_uri": "https://localhost:8080/",
          "height": 604
        },
        "id": "0YqBtHWxE8pQ",
        "outputId": "6fe1611f-f794-4941-ebb7-d1734a1e3401"
      },
      "execution_count": 241,
      "outputs": [
        {
          "output_type": "stream",
          "name": "stdout",
          "text": [
            "Total Population: 20\n",
            "Mutation Probability: 5%\n",
            "Nuber of cities: 20\n",
            "Optimal path cost: 4.3143\n",
            "Best Route: [8, 10, 11, 3, 5, 6, 9, 14, 7, 12, 1, 19, 20, 17, 2, 16, 18, 15, 13, 4]\n"
          ]
        },
        {
          "output_type": "display_data",
          "data": {
            "text/plain": [
              "<Figure size 432x288 with 1 Axes>"
            ],
            "image/png": "[encoded data removed]"
          },
          "metadata": {
            "needs_background": "light"
          }
        },
        {
          "output_type": "display_data",
          "data": {
            "text/plain": [
              "<Figure size 432x288 with 1 Axes>"
            ],
            "image/png": "[encoded data removed]"
          },
          "metadata": {
            "needs_background": "light"
          }
        }
      ]
    }
  ]
}